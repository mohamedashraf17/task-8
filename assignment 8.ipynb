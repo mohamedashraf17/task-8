{
 "cells": [
  {
   "cell_type": "code",
   "execution_count": 3,
   "id": "ed34ca52",
   "metadata": {},
   "outputs": [],
   "source": [
    "import re\n",
    "form = \"\"\"mohamed ashraf,01092161142,mohamedashrafmohamed0202@gmail.com\n",
    "01112345678,ali ahmed,mohamedashraf3432@edu.com\n",
    "mohamedashrafmohamed2123@gmail.com,ahmed mohamed ,01212345678 \"\"\""
   ]
  },
  {
   "cell_type": "code",
   "execution_count": 5,
   "id": "e7ad8205",
   "metadata": {},
   "outputs": [
    {
     "name": "stdout",
     "output_type": "stream",
     "text": [
      "Names: ['mohamed ashraf', 'ali ahmed', 'com\\nmohamedashrafmohamed', 'ahmed mohamed']\n"
     ]
    }
   ],
   "source": [
    "find = re.compile (r\"([A-Za-z]+\\s[A-Za-z]+)\")\n",
    "name = find.finditer(form)\n",
    "result =[]\n",
    "for i in name :\n",
    "    start=i.start()\n",
    "    end=i.end()\n",
    "    result.append(form[start:end])\n",
    "print(\"Names:\",result)    "
   ]
  },
  {
   "cell_type": "code",
   "execution_count": 7,
   "id": "143339a7",
   "metadata": {},
   "outputs": [
    {
     "name": "stdout",
     "output_type": "stream",
     "text": [
      "Emails ['mohamedashrafmohamed0202@gmail.com', 'mohamedashraf3432@edu.com', 'mohamedashrafmohamed2123@gmail.com']\n"
     ]
    }
   ],
   "source": [
    "find = re.compile (r\"[A-Za-z0-9_$%*]+@[A-Za-z0-9_$%*]+\\.(com|edu)\")\n",
    "email = find.finditer(form)\n",
    "result =[]\n",
    "for i in email :\n",
    "    start=i.start()\n",
    "    end=i.end()\n",
    "    result.append(form[start:end])\n",
    "print(\"Emails\",result)    "
   ]
  },
  {
   "cell_type": "code",
   "execution_count": 8,
   "id": "501263f0",
   "metadata": {},
   "outputs": [
    {
     "name": "stdout",
     "output_type": "stream",
     "text": [
      "phones: ['01092161142', '01112345678', '01212345678']\n"
     ]
    }
   ],
   "source": [
    "find = re.compile (r\"(010|012|011)+\\d{8}\")\n",
    "phone = find.finditer(form)\n",
    "result =[]\n",
    "for i in phone :\n",
    "    start=i.start()\n",
    "    end=i.end()\n",
    "    result.append(form[start:end])\n",
    "print(\"phones:\",result)   "
   ]
  },
  {
   "cell_type": "code",
   "execution_count": null,
   "id": "ed76bfed",
   "metadata": {},
   "outputs": [],
   "source": []
  }
 ],
 "metadata": {
  "kernelspec": {
   "display_name": "Python 3 (ipykernel)",
   "language": "python",
   "name": "python3"
  },
  "language_info": {
   "codemirror_mode": {
    "name": "ipython",
    "version": 3
   },
   "file_extension": ".py",
   "mimetype": "text/x-python",
   "name": "python",
   "nbconvert_exporter": "python",
   "pygments_lexer": "ipython3",
   "version": "3.11.3"
  }
 },
 "nbformat": 4,
 "nbformat_minor": 5
}
